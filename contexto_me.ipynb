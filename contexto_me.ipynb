{
  "nbformat": 4,
  "nbformat_minor": 0,
  "metadata": {
    "colab": {
      "provenance": []
    },
    "kernelspec": {
      "name": "python3",
      "display_name": "Python 3"
    },
    "language_info": {
      "name": "python"
    }
  },
  "cells": [
    {
      "cell_type": "markdown",
      "source": [
        "### **Contexto.me Game using Cosine Similarity**\n",
        "---"
      ],
      "metadata": {
        "id": "_6VNlupBaTb5"
      }
    },
    {
      "cell_type": "markdown",
      "source": [
        "      1.   Creating List of Words and Generating Embeddings:"
      ],
      "metadata": {
        "id": "ou4HxV8RkTvd"
      }
    },
    {
      "cell_type": "code",
      "execution_count": null,
      "metadata": {
        "id": "Hc69ICrp7PN2",
        "collapsed": true
      },
      "outputs": [],
      "source": [
        "from openai import OpenAI\n",
        "import numpy as np\n",
        "import random\n",
        "\n",
        "client = OpenAI(api_key=\"<api_key>\")\n",
        "\n",
        "word_list = ['apple', 'orange', 'elegant', 'dog', 'cat', 'elephant', 'mountain', 'river', 'elevator', 'car']\n",
        "\n",
        "hidden_word = random.choice(word_list)\n",
        "\n",
        "word_embeddings = {}\n",
        "for word in word_list:\n",
        "    response = client.embeddings.create(input=word, model=\"text-embedding-ada-002\")\n",
        "    word_embeddings[word] = np.array(response.data[0].embedding)"
      ]
    },
    {
      "cell_type": "markdown",
      "source": [
        "      2.   Calculating Rank of Words based on Cosine Similarity and Initializing game loop:"
      ],
      "metadata": {
        "id": "2jaLSxO5k16S"
      }
    },
    {
      "cell_type": "code",
      "source": [
        "def cosine_similarity(A, B):\n",
        "    return np.dot(A, B) / (np.linalg.norm(A) * np.linalg.norm(B))\n",
        "\n",
        "ranked_words = sorted(word_list, key=lambda w: cosine_similarity(word_embeddings[hidden_word], word_embeddings[w]), reverse=True)\n",
        "\n",
        "guess = \"\"\n",
        "while guess != hidden_word:\n",
        "    guess = input(\"Try a word: \").strip().lower()\n",
        "\n",
        "    if guess in word_embeddings:\n",
        "        rank = ranked_words.index(guess) + 1\n",
        "        if guess == hidden_word:\n",
        "            print(f\"Your guess is ranked #1\")\n",
        "        else:\n",
        "            print(f\"Your guess is ranked #{rank}\")\n",
        "    else:\n",
        "        print(\"I'm sorry, I don't know this word\")\n",
        "print(f\"You guessed the word! It is {hidden_word}\")"
      ],
      "metadata": {
        "colab": {
          "base_uri": "https://localhost:8080/"
        },
        "id": "F5W4y_vOWDnb",
        "outputId": "7267e300-6493-47ce-e21e-06a3c58fc3d4"
      },
      "execution_count": null,
      "outputs": [
        {
          "output_type": "stream",
          "name": "stdout",
          "text": [
            "Try a word: apple\n",
            "Your guess is ranked #5\n",
            "Try a word: elegant\n",
            "Your guess is ranked #4\n",
            "Try a word: elevator\n",
            "Your guess is ranked #2\n",
            "Try a word: car\n",
            "Your guess is ranked #8\n",
            "Try a word: elephant\n",
            "Your guess is ranked #1\n",
            "You guessed the word! It is elephant\n"
          ]
        }
      ]
    }
  ]
}